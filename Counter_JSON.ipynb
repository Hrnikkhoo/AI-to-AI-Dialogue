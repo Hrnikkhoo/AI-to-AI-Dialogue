{
 "cells": [
  {
   "cell_type": "code",
   "execution_count": null,
   "id": "54e8fe1e",
   "metadata": {},
   "outputs": [],
   "source": [
    "import json\n",
    "\n",
    "try:\n",
    "    with open('chat_history.json', 'r', encoding='utf-8') as f:\n",
    "        chat_data = json.load(f)\n",
    "    print(f\"تعداد کل پیامها: {len(chat_data)}\")\n",
    "    roles_count = {}\n",
    "    for entry in chat_data:\n",
    "        role = entry.get(\"role\", \"unknown\")\n",
    "        roles_count[role] = roles_count.get(role, 0) + 1\n",
    "\n",
    "    print(\"تعداد پیامها بر اساس نقش:\")\n",
    "    for role, count in roles_count.items():\n",
    "        print(f\"- {role}: {count}\")\n",
    "\n",
    "except FileNotFoundError:\n",
    "    print(\"خطا: فایل chat_history.json پیدا نشد!\")\n",
    "except json.JSONDecodeError:\n",
    "    print(\"خطا: فایل JSON نامعتبر است!\")"
   ]
  },
  {
   "cell_type": "code",
   "execution_count": null,
   "id": "2f0214dd",
   "metadata": {},
   "outputs": [],
   "source": []
  },
  {
   "cell_type": "code",
   "execution_count": null,
   "id": "b9fd425f",
   "metadata": {},
   "outputs": [],
   "source": []
  },
  {
   "cell_type": "code",
   "execution_count": null,
   "id": "c84d04a6",
   "metadata": {},
   "outputs": [],
   "source": []
  }
 ],
 "metadata": {
  "language_info": {
   "name": "python"
  }
 },
 "nbformat": 4,
 "nbformat_minor": 5
}
